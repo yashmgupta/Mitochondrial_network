{
 "cells": [
  {
   "cell_type": "markdown",
   "metadata": {},
   "source": [
    "# Publication Analysis\n",
    "\n",
    "This notebook generates figures and summary tables for the mitochondrial network dataset." ]
  },
  {
   "cell_type": "code",
   "execution_count": null,
   "metadata": {},
   "outputs": [],
   "source": [
    "import pandas as pd\n",
    "import networkx as nx\n",
    "import matplotlib.pyplot as plt\n",
    "%matplotlib inline\n"
   ]
  },
  {
   "cell_type": "code",
   "execution_count": null,
   "metadata": {},
   "outputs": [],
   "source": [
    "# Load processed network data\n",
    "nodes = pd.read_csv('../network_nodes_clustered.csv')\n",
    "edges = pd.read_csv('../network_edges.csv')\n",
    "clusters = pd.read_csv('../network_clusters_summary.csv')\n"
   ]
  },
  {
   "cell_type": "code",
   "execution_count": null,
   "metadata": {},
   "outputs": [],
   "source": [
    "# Build graph\n",
    "G = nx.from_pandas_edgelist(edges, 'source', 'target', edge_attr='weight')\n",
    "node_attrs = nodes.set_index('node_id').to_dict('index')\n",
    "nx.set_node_attributes(G, node_attrs)\n",
    "\n",
    "# Calculate degree centrality\n",
    "deg_cent = nx.degree_centrality(G)\n",
    "nx.set_node_attributes(G, deg_cent, 'degree_centrality')\n",
    "nodes['degree_centrality'] = nodes['node_id'].map(deg_cent)\n"
   ]
  },
  {
   "cell_type": "code",
   "execution_count": null,
   "metadata": {},
   "outputs": [],
   "source": [
    "# Figure 1: network coloured by cluster\n",
    "pos = nx.spring_layout(G, seed=42)\n",
    "cluster_ids = nodes['cluster_id'].unique()\n",
    "colors = plt.cm.tab20(range(len(cluster_ids)))\n",
    "color_map = {cid: colors[i] for i, cid in enumerate(cluster_ids)}\n",
    "plt.figure(figsize=(12,8))\n",
    "for cid in cluster_ids:\n",
    "    nodelist = nodes[nodes['cluster_id']==cid]['node_id']\n",
    "    nx.draw_networkx_nodes(G, pos, nodelist=nodelist, node_size=40, node_color=[color_map[cid]], label=f'Cluster {cid}')\n",
    "nx.draw_networkx_edges(G, pos, alpha=0.2)\n",
    "plt.axis('off')\n",
    "plt.legend(title='Clusters', bbox_to_anchor=(1.05,1), loc='upper left')\n",
    "plt.tight_layout()\n",
    "plt.savefig('fig1_network_by_cluster.png', dpi=300)\n",
    "plt.show()\n"
   ]
  },
  {
   "cell_type": "code",
   "execution_count": null,
   "metadata": {},
   "outputs": [],
   "source": [
    "# Figure 2: degree centrality distribution\n",
    "plt.figure(figsize=(8,6))\n",
    "plt.hist(nodes['degree_centrality'], bins=30, color='skyblue', edgecolor='black')\n",
    "plt.xlabel('Degree Centrality')\n",
    "plt.ylabel('Frequency')\n",
    "plt.title('Degree Centrality Distribution')\n",
    "plt.tight_layout()\n",
    "plt.savefig('fig2_degree_centrality_hist.png', dpi=300)\n",
    "plt.show()\n"
   ]
  },
  {
   "cell_type": "code",
   "execution_count": null,
   "metadata": {},
   "outputs": [],
   "source": [
    "# Figure 3: network annotated with representative species\n",
    "rep_species = clusters.set_index('cluster_id')['representative_organism'].to_dict()\n",
    "plt.figure(figsize=(12,8))\n",
    "nx.draw_networkx_edges(G, pos, alpha=0.2)\n",
    "for cid in cluster_ids:\n",
    "    nodelist = nodes[nodes['cluster_id']==cid]['node_id']\n",
    "    nx.draw_networkx_nodes(G, pos, nodelist=nodelist, node_size=40, node_color=[color_map[cid]])\n",
    "for cid in cluster_ids:\n",
    "    rep_node = nodes[nodes['cluster_id']==cid].iloc[0]['node_id']\n",
    "    x, y = pos[rep_node]\n",
    "    plt.text(x, y, rep_species.get(cid, ''), fontsize=6, ha='center')\n",
    "plt.axis('off')\n",
    "plt.tight_layout()\n",
    "plt.savefig('fig3_representative_species.png', dpi=300)\n",
    "plt.show()\n"
   ]
  },
  {
   "cell_type": "code",
   "execution_count": null,
   "metadata": {},
   "outputs": [],
   "source": [
    "# Summary table with average degree centrality per cluster\n",
    "summary = nodes.groupby('cluster_id').agg(\n",
    "    representative_organism=('organism','first'),\n",
    "    num_nodes=('node_id','size'),\n",
    "    avg_degree=('degree_centrality','mean')\n",
    ").reset_index()\n",
    "summary.to_csv('cluster_summary_table.csv', index=False)\n",
    "summary\n"
   ]
  }
 ],
 "metadata": {
  "kernelspec": {
   "display_name": "Python 3",
   "language": "python",
   "name": "python3"
  },
  "language_info": {
   "name": "python"
  }
 },
 "nbformat": 4,
 "nbformat_minor": 5
}
